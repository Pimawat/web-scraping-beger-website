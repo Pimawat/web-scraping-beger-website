{
 "cells": [
  {
   "cell_type": "code",
   "execution_count": 1,
   "metadata": {
    "id": "8YnV9PcnOujK"
   },
   "outputs": [],
   "source": [
    "import pandas as pd"
   ]
  },
  {
   "cell_type": "markdown",
   "metadata": {},
   "source": [
    "# Set path url for target web"
   ]
  },
  {
   "cell_type": "code",
   "execution_count": 13,
   "metadata": {
    "colab": {
     "base_uri": "https://localhost:8080/"
    },
    "id": "NwVOF2IIJkL2",
    "outputId": "faf24393-e05d-4cae-e2c0-c2bd81d976d5"
   },
   "outputs": [],
   "source": [
    "import requests\n",
    "from bs4 import BeautifulSoup\n",
    "\n",
    "headers = {\n",
    "    'Access-Control-Allow-Origin': '*',\n",
    "    'Access-Control-Allow-Methods': 'GET',\n",
    "    'Access-Control-Allow-Headers': 'Content-Type',\n",
    "    'Access-Control-Max-Age': '3600',\n",
    "    'User-Agent': 'Mozilla/5.0 (X11; Ubuntu; Linux x86_64; rv:52.0) Gecko/20100101 Firefox/52.0'\n",
    "    }\n",
    "\n",
    "# LOOP 1-2529\n",
    "url = \"https://www.beger.co.th/shop/store?store_id=1\"\n",
    "req = requests.get(url, headers)\n",
    "soup = BeautifulSoup(req.content, 'html.parser')\n",
    "#print(soup.prettify())"
   ]
  },
  {
   "cell_type": "code",
   "execution_count": 16,
   "metadata": {
    "colab": {
     "base_uri": "https://localhost:8080/"
    },
    "id": "vvhbtki7Jk16",
    "outputId": "78ccedc6-f479-42ab-934d-e8b5860816ff"
   },
   "outputs": [
    {
     "name": "stdout",
     "output_type": "stream",
     "text": [
      "[<div class=\"contact-row d-flex align-items-center\">\n",
      "<i class=\"fa fa-home\"></i>     \n",
      "                            <p>1071 ถ.ศรีนครินทร์ แขวงสวนหลวง เขตสวนหลวง กรุงเทพมหานคร 10250</p>\n",
      "</div>, <div class=\"contact-row d-flex align-items-center\">\n",
      "<i class=\"fa fa-phone\"></i>     \n",
      "                            <p>โทร: <a href=\"tel:02-322-2200\">02-322-2200</a></p>\n",
      "</div>, <div class=\"contact-row d-flex align-items-center\">\n",
      "<i class=\"fa fa-cog\"></i>     \n",
      "                            <p>เครื่องผสมสีเบเยอร์: มี</p>\n",
      "</div>]\n",
      "บริษัท สีสันนครินทร์ จำกัด\n"
     ]
    }
   ],
   "source": [
    "container = soup.find_all(class_=\"container\")\n",
    "info = container[1]\n",
    "\n",
    "row1 = info.find_all(class_=\"row-1\")\n",
    "row2 = info.find_all(class_=\"row-2\")\n",
    "row3 = info.find_all(class_=\"row-3\")\n",
    "# print(row1[0])\n",
    "\n",
    "company = row1[0].h2.text\n",
    "branch_infos = row3[0].find_all(class_=\"contact-row\")\n",
    "\n",
    "print(branch_infos)\n",
    "print(company)"
   ]
  },
  {
   "cell_type": "markdown",
   "metadata": {},
   "source": [
    "# Explore and find which class had the information we want"
   ]
  },
  {
   "cell_type": "code",
   "execution_count": 17,
   "metadata": {
    "colab": {
     "base_uri": "https://localhost:8080/"
    },
    "id": "Ip0-A3rWK5Q-",
    "outputId": "dece9987-87c8-4fee-9d5f-3f46269e60cc"
   },
   "outputs": [
    {
     "data": {
      "text/plain": [
       "[<div class=\"row-3\">\n",
       " <h3>ข้อมูลสาขา</h3>\n",
       " <div class=\"contact-row d-flex align-items-center\">\n",
       " <i class=\"fa fa-home\"></i>     \n",
       "                             <p>1071 ถ.ศรีนครินทร์ แขวงสวนหลวง เขตสวนหลวง กรุงเทพมหานคร 10250</p>\n",
       " </div>\n",
       " <div class=\"contact-row d-flex align-items-center\">\n",
       " <i class=\"fa fa-phone\"></i>     \n",
       "                             <p>โทร: <a href=\"tel:02-322-2200\">02-322-2200</a></p>\n",
       " </div>\n",
       " <div class=\"contact-row d-flex align-items-center\">\n",
       " <i class=\"fa fa-cog\"></i>     \n",
       "                             <p>เครื่องผสมสีเบเยอร์: มี</p>\n",
       " </div>\n",
       " </div>]"
      ]
     },
     "execution_count": 17,
     "metadata": {},
     "output_type": "execute_result"
    }
   ],
   "source": [
    "row3 = info.find_all(class_=\"row-3\")\n",
    "row3"
   ]
  },
  {
   "cell_type": "code",
   "execution_count": 18,
   "metadata": {
    "colab": {
     "base_uri": "https://localhost:8080/"
    },
    "id": "b882bbPxLFar",
    "outputId": "a5ea540f-4e1f-40d9-ffeb-b46996b9aba5"
   },
   "outputs": [
    {
     "data": {
      "text/plain": [
       "[<div class=\"contact-row d-flex align-items-center\">\n",
       " <i class=\"fa fa-home\"></i>     \n",
       "                             <p>1071 ถ.ศรีนครินทร์ แขวงสวนหลวง เขตสวนหลวง กรุงเทพมหานคร 10250</p>\n",
       " </div>,\n",
       " <div class=\"contact-row d-flex align-items-center\">\n",
       " <i class=\"fa fa-phone\"></i>     \n",
       "                             <p>โทร: <a href=\"tel:02-322-2200\">02-322-2200</a></p>\n",
       " </div>,\n",
       " <div class=\"contact-row d-flex align-items-center\">\n",
       " <i class=\"fa fa-cog\"></i>     \n",
       "                             <p>เครื่องผสมสีเบเยอร์: มี</p>\n",
       " </div>]"
      ]
     },
     "execution_count": 18,
     "metadata": {},
     "output_type": "execute_result"
    }
   ],
   "source": [
    "row3[0].find_all(class_=\"contact-row\")"
   ]
  },
  {
   "cell_type": "markdown",
   "metadata": {},
   "source": [
    "# Get the information"
   ]
  },
  {
   "cell_type": "code",
   "execution_count": 19,
   "metadata": {
    "colab": {
     "base_uri": "https://localhost:8080/"
    },
    "id": "X6ub2p7fLdXk",
    "outputId": "dd8a5bbe-ebd7-4609-9793-e652d0b8f325"
   },
   "outputs": [
    {
     "name": "stdout",
     "output_type": "stream",
     "text": [
      "['บริษัท สีสันนครินทร์ จำกัด', '1071 ถ.ศรีนครินทร์ แขวงสวนหลวง เขตสวนหลวง กรุงเทพมหานคร 10250', 'โทร: 02-322-2200', 'เครื่องผสมสีเบเยอร์: มี']\n"
     ]
    }
   ],
   "source": [
    "info_array = [company]\n",
    "for branch_info in row3[0].find_all(class_=\"contact-row\"):\n",
    "  info_array.append(branch_info.p.text)\n",
    "print(info_array)"
   ]
  },
  {
   "cell_type": "code",
   "execution_count": 21,
   "metadata": {
    "colab": {
     "base_uri": "https://localhost:8080/",
     "height": 35
    },
    "id": "RHcRWJP3L_HS",
    "outputId": "7a648891-d141-41d7-fca6-be8c21542833"
   },
   "outputs": [
    {
     "data": {
      "text/plain": [
       "'บริษัท สีสันนครินทร์ จำกัด'"
      ]
     },
     "execution_count": 21,
     "metadata": {},
     "output_type": "execute_result"
    }
   ],
   "source": [
    "row1[0].h2.text"
   ]
  },
  {
   "cell_type": "markdown",
   "metadata": {},
   "source": [
    "# Run loop for all store's ID for getting all information from all beger's store"
   ]
  },
  {
   "cell_type": "code",
   "execution_count": 23,
   "metadata": {
    "colab": {
     "base_uri": "https://localhost:8080/"
    },
    "id": "xX3aXj2VMbGz",
    "outputId": "60b6bf7d-4bba-471e-edb3-39c1b54d1218"
   },
   "outputs": [],
   "source": [
    "i=0\n",
    "result=[]\n",
    "for i in range(1,2530) :\n",
    "\n",
    "\n",
    "  url = url = \"https://www.beger.co.th/shop/store?store_id=\" + str(i)\n",
    "  req = requests.get(url, headers)\n",
    "  soup = BeautifulSoup(req.content, 'html.parser')\n",
    "\n",
    "  container = soup.find_all(class_=\"container\")\n",
    "  info = container[1]\n",
    "\n",
    "  row1 = info.find_all(class_=\"row-1\")\n",
    "  row2 = info.find_all(class_=\"row-2\")\n",
    "  row3 = info.find_all(class_=\"row-3\")\n",
    "\n",
    "  company = row1[0].h2.text\n",
    "  branch_infos = row3[0].find_all(class_=\"contact-row\")\n",
    "\n",
    "\n",
    "\n",
    "  info_array = [company]\n",
    "  for branch_info in row3[0].find_all(class_=\"contact-row\"):\n",
    "    info_array.append(branch_info.p.text)\n",
    "  \n",
    "  map = soup.find_all(\"script\")\n",
    "  try:\n",
    "      text = map[-2].text\n",
    "      latitude = text.split('parseFloat(')[1].split(')')[0]\n",
    "      longtitude = text.split('parseFloat(')[2].split(')')[0]\n",
    "      info_array.append(latitude)\n",
    "      info_array.append(longtitude)\n",
    "  except:\n",
    "      info_array.append('')\n",
    "      info_array.append('')\n",
    "  \n",
    "  result.append(info_array)\n",
    "\n",
    "\n",
    "\n",
    "#result"
   ]
  },
  {
   "cell_type": "code",
   "execution_count": 24,
   "metadata": {
    "colab": {
     "base_uri": "https://localhost:8080/"
    },
    "id": "vYQ5M5rZOA6j",
    "outputId": "19045339-2a48-4178-8c00-b51d68f56c2e"
   },
   "outputs": [],
   "source": [
    "company_name = []\n",
    "\n",
    "for i in range(len(result)):\n",
    "  company_name.append(result[i][0])\n",
    "\n",
    "\n",
    "#company_name"
   ]
  },
  {
   "cell_type": "code",
   "execution_count": 25,
   "metadata": {
    "colab": {
     "base_uri": "https://localhost:8080/"
    },
    "id": "EFRz3O8aPAd4",
    "outputId": "3f2dc8e5-e78d-4499-ff65-f9085c80bea3"
   },
   "outputs": [],
   "source": [
    "address = []\n",
    "\n",
    "for i in range(len(result)):\n",
    "  address.append(result[i][1])\n",
    "\n",
    "\n",
    "#address"
   ]
  },
  {
   "cell_type": "code",
   "execution_count": 26,
   "metadata": {
    "colab": {
     "base_uri": "https://localhost:8080/"
    },
    "id": "sC2BoSaAPiOu",
    "outputId": "3dfa23c0-74a7-4a49-bdd2-dd1e3b9fcbad"
   },
   "outputs": [],
   "source": [
    "tel = []\n",
    "\n",
    "for i in range(len(result)):\n",
    "  tel.append(result[i][2])\n",
    "\n",
    "\n",
    "#tel"
   ]
  },
  {
   "cell_type": "code",
   "execution_count": 27,
   "metadata": {
    "colab": {
     "base_uri": "https://localhost:8080/"
    },
    "id": "t6qH3NTLPoem",
    "outputId": "b236922d-0bf6-49ca-f5c2-267319139b0f"
   },
   "outputs": [],
   "source": [
    "mech = []\n",
    "\n",
    "for i in range(len(result)):\n",
    "  mech.append(result[i][3].split(\" \")[1])\n",
    "\n",
    "\n",
    "#mech"
   ]
  },
  {
   "cell_type": "code",
   "execution_count": 28,
   "metadata": {
    "colab": {
     "base_uri": "https://localhost:8080/"
    },
    "id": "t9j5FhKm14MV",
    "outputId": "bfe1b5c0-125b-4fcc-889c-67a14740848b"
   },
   "outputs": [
    {
     "data": {
      "text/plain": [
       "2529"
      ]
     },
     "execution_count": 28,
     "metadata": {},
     "output_type": "execute_result"
    }
   ],
   "source": [
    "lat = []\n",
    "\n",
    "for i in range(len(result)):\n",
    "  lat.append(result[i][4])\n",
    "\n",
    "len(lat)"
   ]
  },
  {
   "cell_type": "code",
   "execution_count": 29,
   "metadata": {
    "colab": {
     "base_uri": "https://localhost:8080/"
    },
    "id": "1NNs7POW2jDX",
    "outputId": "1cdfe516-f643-4af1-d344-d7a7192cd7bf"
   },
   "outputs": [
    {
     "data": {
      "text/plain": [
       "2529"
      ]
     },
     "execution_count": 29,
     "metadata": {},
     "output_type": "execute_result"
    }
   ],
   "source": [
    "lon = []\n",
    "\n",
    "for i in range(len(result)):\n",
    "  lon.append(result[i][5])\n",
    "\n",
    "len(lon)"
   ]
  },
  {
   "cell_type": "markdown",
   "metadata": {},
   "source": [
    "# Convert to dataframe"
   ]
  },
  {
   "cell_type": "code",
   "execution_count": 30,
   "metadata": {
    "colab": {
     "base_uri": "https://localhost:8080/",
     "height": 419
    },
    "id": "Wkr7qv5-P2IY",
    "outputId": "50f96621-60c4-48f6-871d-6c129e4bd3ea"
   },
   "outputs": [
    {
     "data": {
      "text/html": [
       "<div>\n",
       "<style scoped>\n",
       "    .dataframe tbody tr th:only-of-type {\n",
       "        vertical-align: middle;\n",
       "    }\n",
       "\n",
       "    .dataframe tbody tr th {\n",
       "        vertical-align: top;\n",
       "    }\n",
       "\n",
       "    .dataframe thead th {\n",
       "        text-align: right;\n",
       "    }\n",
       "</style>\n",
       "<table border=\"1\" class=\"dataframe\">\n",
       "  <thead>\n",
       "    <tr style=\"text-align: right;\">\n",
       "      <th></th>\n",
       "      <th>company_name</th>\n",
       "      <th>address</th>\n",
       "      <th>tel</th>\n",
       "      <th>mech</th>\n",
       "      <th>lat</th>\n",
       "      <th>lon</th>\n",
       "    </tr>\n",
       "  </thead>\n",
       "  <tbody>\n",
       "    <tr>\n",
       "      <th>0</th>\n",
       "      <td>บริษัท สีสันนครินทร์ จำกัด</td>\n",
       "      <td>1071 ถ.ศรีนครินทร์ แขวงสวนหลวง เขตสวนหลวง กรุง...</td>\n",
       "      <td>โทร: 02-322-2200</td>\n",
       "      <td>มี</td>\n",
       "      <td></td>\n",
       "      <td></td>\n",
       "    </tr>\n",
       "    <tr>\n",
       "      <th>1</th>\n",
       "      <td>บริษัท โฮมเพ้นท์ จำกัดสาขามีนบุรี-แยก มิสทีน</td>\n",
       "      <td>351/1 ถ.รามคำแหง แขวงสะพานสูง เขตสะพานสูง กรุง...</td>\n",
       "      <td>โทร: 02-540-7379-81</td>\n",
       "      <td>มี</td>\n",
       "      <td></td>\n",
       "      <td></td>\n",
       "    </tr>\n",
       "    <tr>\n",
       "      <th>2</th>\n",
       "      <td>บริษัท โฮมเพ้นท์ จำกัด</td>\n",
       "      <td>655/4 ถ.รามคำแหง แขวงหัวหมาก เขตบางกะปิ กรุงเท...</td>\n",
       "      <td>โทร: 02-735-6411-3</td>\n",
       "      <td>มี</td>\n",
       "      <td></td>\n",
       "      <td></td>\n",
       "    </tr>\n",
       "    <tr>\n",
       "      <th>3</th>\n",
       "      <td>บริษัท สีสัน สุวินทวงศ์ จำกัด</td>\n",
       "      <td>88 หมู่ 2 ถ.สุวินทวงศ์ แขวงลำผักชี เขตหนองจอก ...</td>\n",
       "      <td>โทร: 02-172-5000</td>\n",
       "      <td>มี</td>\n",
       "      <td></td>\n",
       "      <td></td>\n",
       "    </tr>\n",
       "    <tr>\n",
       "      <th>4</th>\n",
       "      <td>บริษัท สีสันร่มเกล้า จำกัด</td>\n",
       "      <td>400 ถ.ร่มเกล้า แขวงมีนบุรี เขตมีนบุรี กรุงเทพม...</td>\n",
       "      <td>โทร: 02-9151115</td>\n",
       "      <td>มี</td>\n",
       "      <td></td>\n",
       "      <td></td>\n",
       "    </tr>\n",
       "    <tr>\n",
       "      <th>...</th>\n",
       "      <td>...</td>\n",
       "      <td>...</td>\n",
       "      <td>...</td>\n",
       "      <td>...</td>\n",
       "      <td>...</td>\n",
       "      <td>...</td>\n",
       "    </tr>\n",
       "    <tr>\n",
       "      <th>2524</th>\n",
       "      <td>ร้านห้วยหมากเจริญพานิช</td>\n",
       "      <td>135 หมู่ที่ 7 ถ.ตระการ-โขงเจียม ต.คำไหล อ.ศรีเ...</td>\n",
       "      <td>โทร:</td>\n",
       "      <td>มี</td>\n",
       "      <td></td>\n",
       "      <td></td>\n",
       "    </tr>\n",
       "    <tr>\n",
       "      <th>2525</th>\n",
       "      <td>เจมส์วัสดุก่อสร้าง</td>\n",
       "      <td>250/54 หมู่ 6 ตำบลสระแก้ว อำเภอเมืองกำแพงเพชร ...</td>\n",
       "      <td>โทร: 055-774287</td>\n",
       "      <td>มี</td>\n",
       "      <td></td>\n",
       "      <td></td>\n",
       "    </tr>\n",
       "    <tr>\n",
       "      <th>2526</th>\n",
       "      <td>กิจโอฬาร</td>\n",
       "      <td>2/1 หมู่ที่ 12 ตำบลประดู่ยืน อำเภอลานสัก จังหว...</td>\n",
       "      <td>โทร: 080-5092338</td>\n",
       "      <td>มี</td>\n",
       "      <td></td>\n",
       "      <td></td>\n",
       "    </tr>\n",
       "    <tr>\n",
       "      <th>2527</th>\n",
       "      <td>ทรัพย์ไพศาลรุ่งเรืองพาณิชย์</td>\n",
       "      <td>89 หมู่ 15 ถนนทางหลวงสาย 3211 ตำบลหนองจอก อำเภ...</td>\n",
       "      <td>โทร: 084-7613344​</td>\n",
       "      <td>มี</td>\n",
       "      <td></td>\n",
       "      <td></td>\n",
       "    </tr>\n",
       "    <tr>\n",
       "      <th>2528</th>\n",
       "      <td>ร้านเมืองสีและไฟฟ้า</td>\n",
       "      <td>99/25-26 ม .5 ถนนสุขสวัสดิ์ ตำบลบางครุ อำเภอพร...</td>\n",
       "      <td>โทร: 02 464 2727</td>\n",
       "      <td>มี</td>\n",
       "      <td></td>\n",
       "      <td></td>\n",
       "    </tr>\n",
       "  </tbody>\n",
       "</table>\n",
       "<p>2529 rows × 6 columns</p>\n",
       "</div>"
      ],
      "text/plain": [
       "                                      company_name  \\\n",
       "0                       บริษัท สีสันนครินทร์ จำกัด   \n",
       "1     บริษัท โฮมเพ้นท์ จำกัดสาขามีนบุรี-แยก มิสทีน   \n",
       "2                           บริษัท โฮมเพ้นท์ จำกัด   \n",
       "3                    บริษัท สีสัน สุวินทวงศ์ จำกัด   \n",
       "4                       บริษัท สีสันร่มเกล้า จำกัด   \n",
       "...                                            ...   \n",
       "2524                        ร้านห้วยหมากเจริญพานิช   \n",
       "2525                            เจมส์วัสดุก่อสร้าง   \n",
       "2526                                      กิจโอฬาร   \n",
       "2527                   ทรัพย์ไพศาลรุ่งเรืองพาณิชย์   \n",
       "2528                           ร้านเมืองสีและไฟฟ้า   \n",
       "\n",
       "                                                address                  tel  \\\n",
       "0     1071 ถ.ศรีนครินทร์ แขวงสวนหลวง เขตสวนหลวง กรุง...     โทร: 02-322-2200   \n",
       "1     351/1 ถ.รามคำแหง แขวงสะพานสูง เขตสะพานสูง กรุง...  โทร: 02-540-7379-81   \n",
       "2     655/4 ถ.รามคำแหง แขวงหัวหมาก เขตบางกะปิ กรุงเท...   โทร: 02-735-6411-3   \n",
       "3     88 หมู่ 2 ถ.สุวินทวงศ์ แขวงลำผักชี เขตหนองจอก ...     โทร: 02-172-5000   \n",
       "4     400 ถ.ร่มเกล้า แขวงมีนบุรี เขตมีนบุรี กรุงเทพม...      โทร: 02-9151115   \n",
       "...                                                 ...                  ...   \n",
       "2524  135 หมู่ที่ 7 ถ.ตระการ-โขงเจียม ต.คำไหล อ.ศรีเ...                โทร:    \n",
       "2525  250/54 หมู่ 6 ตำบลสระแก้ว อำเภอเมืองกำแพงเพชร ...      โทร: 055-774287   \n",
       "2526  2/1 หมู่ที่ 12 ตำบลประดู่ยืน อำเภอลานสัก จังหว...     โทร: 080-5092338   \n",
       "2527  89 หมู่ 15 ถนนทางหลวงสาย 3211 ตำบลหนองจอก อำเภ...    โทร: 084-7613344​   \n",
       "2528  99/25-26 ม .5 ถนนสุขสวัสดิ์ ตำบลบางครุ อำเภอพร...     โทร: 02 464 2727   \n",
       "\n",
       "     mech lat lon  \n",
       "0      มี          \n",
       "1      มี          \n",
       "2      มี          \n",
       "3      มี          \n",
       "4      มี          \n",
       "...   ...  ..  ..  \n",
       "2524   มี          \n",
       "2525   มี          \n",
       "2526   มี          \n",
       "2527   มี          \n",
       "2528   มี          \n",
       "\n",
       "[2529 rows x 6 columns]"
      ]
     },
     "execution_count": 30,
     "metadata": {},
     "output_type": "execute_result"
    }
   ],
   "source": [
    "data = {\n",
    "    'company_name' : company_name,\n",
    "    'address' : address,\n",
    "    'tel' : tel,\n",
    "    'mech' : mech,\n",
    "    'lat' : lat,\n",
    "    'lon' : lon\n",
    "}\n",
    "\n",
    "data_df = pd.DataFrame(data)\n",
    "data_df"
   ]
  },
  {
   "cell_type": "code",
   "execution_count": 31,
   "metadata": {
    "id": "Zpf6tul5QxNy"
   },
   "outputs": [],
   "source": [
    "data_df.company_name=\"\""
   ]
  },
  {
   "cell_type": "code",
   "execution_count": 33,
   "metadata": {
    "colab": {
     "base_uri": "https://localhost:8080/",
     "height": 419
    },
    "id": "BDkkBbL0hTob",
    "outputId": "e54258af-d25a-4bba-a120-a9be8a95c564"
   },
   "outputs": [
    {
     "data": {
      "text/html": [
       "<div>\n",
       "<style scoped>\n",
       "    .dataframe tbody tr th:only-of-type {\n",
       "        vertical-align: middle;\n",
       "    }\n",
       "\n",
       "    .dataframe tbody tr th {\n",
       "        vertical-align: top;\n",
       "    }\n",
       "\n",
       "    .dataframe thead th {\n",
       "        text-align: right;\n",
       "    }\n",
       "</style>\n",
       "<table border=\"1\" class=\"dataframe\">\n",
       "  <thead>\n",
       "    <tr style=\"text-align: right;\">\n",
       "      <th></th>\n",
       "      <th>company_name</th>\n",
       "      <th>address</th>\n",
       "      <th>tel</th>\n",
       "      <th>mech</th>\n",
       "      <th>lat</th>\n",
       "      <th>lon</th>\n",
       "    </tr>\n",
       "  </thead>\n",
       "  <tbody>\n",
       "    <tr>\n",
       "      <th>0</th>\n",
       "      <td></td>\n",
       "      <td>1071 ถ.ศรีนครินทร์ แขวงสวนหลวง เขตสวนหลวง กรุง...</td>\n",
       "      <td>โทร: 02-322-2200</td>\n",
       "      <td>มี</td>\n",
       "      <td></td>\n",
       "      <td></td>\n",
       "    </tr>\n",
       "    <tr>\n",
       "      <th>1</th>\n",
       "      <td></td>\n",
       "      <td>351/1 ถ.รามคำแหง แขวงสะพานสูง เขตสะพานสูง กรุง...</td>\n",
       "      <td>โทร: 02-540-7379-81</td>\n",
       "      <td>มี</td>\n",
       "      <td></td>\n",
       "      <td></td>\n",
       "    </tr>\n",
       "    <tr>\n",
       "      <th>2</th>\n",
       "      <td></td>\n",
       "      <td>655/4 ถ.รามคำแหง แขวงหัวหมาก เขตบางกะปิ กรุงเท...</td>\n",
       "      <td>โทร: 02-735-6411-3</td>\n",
       "      <td>มี</td>\n",
       "      <td></td>\n",
       "      <td></td>\n",
       "    </tr>\n",
       "    <tr>\n",
       "      <th>3</th>\n",
       "      <td></td>\n",
       "      <td>88 หมู่ 2 ถ.สุวินทวงศ์ แขวงลำผักชี เขตหนองจอก ...</td>\n",
       "      <td>โทร: 02-172-5000</td>\n",
       "      <td>มี</td>\n",
       "      <td></td>\n",
       "      <td></td>\n",
       "    </tr>\n",
       "    <tr>\n",
       "      <th>4</th>\n",
       "      <td></td>\n",
       "      <td>400 ถ.ร่มเกล้า แขวงมีนบุรี เขตมีนบุรี กรุงเทพม...</td>\n",
       "      <td>โทร: 02-9151115</td>\n",
       "      <td>มี</td>\n",
       "      <td></td>\n",
       "      <td></td>\n",
       "    </tr>\n",
       "    <tr>\n",
       "      <th>...</th>\n",
       "      <td>...</td>\n",
       "      <td>...</td>\n",
       "      <td>...</td>\n",
       "      <td>...</td>\n",
       "      <td>...</td>\n",
       "      <td>...</td>\n",
       "    </tr>\n",
       "    <tr>\n",
       "      <th>2524</th>\n",
       "      <td></td>\n",
       "      <td>135 หมู่ที่ 7 ถ.ตระการ-โขงเจียม ต.คำไหล อ.ศรีเ...</td>\n",
       "      <td>โทร:</td>\n",
       "      <td>มี</td>\n",
       "      <td></td>\n",
       "      <td></td>\n",
       "    </tr>\n",
       "    <tr>\n",
       "      <th>2525</th>\n",
       "      <td></td>\n",
       "      <td>250/54 หมู่ 6 ตำบลสระแก้ว อำเภอเมืองกำแพงเพชร ...</td>\n",
       "      <td>โทร: 055-774287</td>\n",
       "      <td>มี</td>\n",
       "      <td></td>\n",
       "      <td></td>\n",
       "    </tr>\n",
       "    <tr>\n",
       "      <th>2526</th>\n",
       "      <td></td>\n",
       "      <td>2/1 หมู่ที่ 12 ตำบลประดู่ยืน อำเภอลานสัก จังหว...</td>\n",
       "      <td>โทร: 080-5092338</td>\n",
       "      <td>มี</td>\n",
       "      <td></td>\n",
       "      <td></td>\n",
       "    </tr>\n",
       "    <tr>\n",
       "      <th>2527</th>\n",
       "      <td></td>\n",
       "      <td>89 หมู่ 15 ถนนทางหลวงสาย 3211 ตำบลหนองจอก อำเภ...</td>\n",
       "      <td>โทร: 084-7613344​</td>\n",
       "      <td>มี</td>\n",
       "      <td></td>\n",
       "      <td></td>\n",
       "    </tr>\n",
       "    <tr>\n",
       "      <th>2528</th>\n",
       "      <td></td>\n",
       "      <td>99/25-26 ม .5 ถนนสุขสวัสดิ์ ตำบลบางครุ อำเภอพร...</td>\n",
       "      <td>โทร: 02 464 2727</td>\n",
       "      <td>มี</td>\n",
       "      <td></td>\n",
       "      <td></td>\n",
       "    </tr>\n",
       "  </tbody>\n",
       "</table>\n",
       "<p>2529 rows × 6 columns</p>\n",
       "</div>"
      ],
      "text/plain": [
       "     company_name                                            address  \\\n",
       "0                  1071 ถ.ศรีนครินทร์ แขวงสวนหลวง เขตสวนหลวง กรุง...   \n",
       "1                  351/1 ถ.รามคำแหง แขวงสะพานสูง เขตสะพานสูง กรุง...   \n",
       "2                  655/4 ถ.รามคำแหง แขวงหัวหมาก เขตบางกะปิ กรุงเท...   \n",
       "3                  88 หมู่ 2 ถ.สุวินทวงศ์ แขวงลำผักชี เขตหนองจอก ...   \n",
       "4                  400 ถ.ร่มเกล้า แขวงมีนบุรี เขตมีนบุรี กรุงเทพม...   \n",
       "...           ...                                                ...   \n",
       "2524               135 หมู่ที่ 7 ถ.ตระการ-โขงเจียม ต.คำไหล อ.ศรีเ...   \n",
       "2525               250/54 หมู่ 6 ตำบลสระแก้ว อำเภอเมืองกำแพงเพชร ...   \n",
       "2526               2/1 หมู่ที่ 12 ตำบลประดู่ยืน อำเภอลานสัก จังหว...   \n",
       "2527               89 หมู่ 15 ถนนทางหลวงสาย 3211 ตำบลหนองจอก อำเภ...   \n",
       "2528               99/25-26 ม .5 ถนนสุขสวัสดิ์ ตำบลบางครุ อำเภอพร...   \n",
       "\n",
       "                      tel mech lat lon  \n",
       "0        โทร: 02-322-2200   มี          \n",
       "1     โทร: 02-540-7379-81   มี          \n",
       "2      โทร: 02-735-6411-3   มี          \n",
       "3        โทร: 02-172-5000   มี          \n",
       "4         โทร: 02-9151115   มี          \n",
       "...                   ...  ...  ..  ..  \n",
       "2524                โทร:    มี          \n",
       "2525      โทร: 055-774287   มี          \n",
       "2526     โทร: 080-5092338   มี          \n",
       "2527    โทร: 084-7613344​   มี          \n",
       "2528     โทร: 02 464 2727   มี          \n",
       "\n",
       "[2529 rows x 6 columns]"
      ]
     },
     "execution_count": 33,
     "metadata": {},
     "output_type": "execute_result"
    }
   ],
   "source": [
    "data_df_drop = data_df.head(2529)\n",
    "data_df_drop"
   ]
  },
  {
   "cell_type": "code",
   "execution_count": 34,
   "metadata": {
    "colab": {
     "base_uri": "https://localhost:8080/",
     "height": 504
    },
    "id": "5ezlMV6Chu_W",
    "outputId": "919535f9-8a6f-4594-c53a-ace42e7f2e2b"
   },
   "outputs": [
    {
     "name": "stderr",
     "output_type": "stream",
     "text": [
      "/Users/pimawatmingkwan/opt/anaconda3/lib/python3.8/site-packages/IPython/core/interactiveshell.py:3343: SettingWithCopyWarning: \n",
      "A value is trying to be set on a copy of a slice from a DataFrame\n",
      "\n",
      "See the caveats in the documentation: https://pandas.pydata.org/pandas-docs/stable/user_guide/indexing.html#returning-a-view-versus-a-copy\n",
      "  exec(code_obj, self.user_global_ns, self.user_ns)\n"
     ]
    },
    {
     "data": {
      "text/html": [
       "<div>\n",
       "<style scoped>\n",
       "    .dataframe tbody tr th:only-of-type {\n",
       "        vertical-align: middle;\n",
       "    }\n",
       "\n",
       "    .dataframe tbody tr th {\n",
       "        vertical-align: top;\n",
       "    }\n",
       "\n",
       "    .dataframe thead th {\n",
       "        text-align: right;\n",
       "    }\n",
       "</style>\n",
       "<table border=\"1\" class=\"dataframe\">\n",
       "  <thead>\n",
       "    <tr style=\"text-align: right;\">\n",
       "      <th></th>\n",
       "      <th>company_name</th>\n",
       "      <th>address</th>\n",
       "      <th>tel</th>\n",
       "      <th>mech</th>\n",
       "      <th>lat</th>\n",
       "      <th>lon</th>\n",
       "    </tr>\n",
       "  </thead>\n",
       "  <tbody>\n",
       "    <tr>\n",
       "      <th>0</th>\n",
       "      <td></td>\n",
       "      <td>1071 ถ.ศรีนครินทร์ แขวงสวนหลวง เขตสวนหลวง กรุง...</td>\n",
       "      <td>02-322-2200</td>\n",
       "      <td>มี</td>\n",
       "      <td></td>\n",
       "      <td></td>\n",
       "    </tr>\n",
       "    <tr>\n",
       "      <th>1</th>\n",
       "      <td></td>\n",
       "      <td>351/1 ถ.รามคำแหง แขวงสะพานสูง เขตสะพานสูง กรุง...</td>\n",
       "      <td>02-540-7379-81</td>\n",
       "      <td>มี</td>\n",
       "      <td></td>\n",
       "      <td></td>\n",
       "    </tr>\n",
       "    <tr>\n",
       "      <th>2</th>\n",
       "      <td></td>\n",
       "      <td>655/4 ถ.รามคำแหง แขวงหัวหมาก เขตบางกะปิ กรุงเท...</td>\n",
       "      <td>02-735-6411-3</td>\n",
       "      <td>มี</td>\n",
       "      <td></td>\n",
       "      <td></td>\n",
       "    </tr>\n",
       "    <tr>\n",
       "      <th>3</th>\n",
       "      <td></td>\n",
       "      <td>88 หมู่ 2 ถ.สุวินทวงศ์ แขวงลำผักชี เขตหนองจอก ...</td>\n",
       "      <td>02-172-5000</td>\n",
       "      <td>มี</td>\n",
       "      <td></td>\n",
       "      <td></td>\n",
       "    </tr>\n",
       "    <tr>\n",
       "      <th>4</th>\n",
       "      <td></td>\n",
       "      <td>400 ถ.ร่มเกล้า แขวงมีนบุรี เขตมีนบุรี กรุงเทพม...</td>\n",
       "      <td>02-9151115</td>\n",
       "      <td>มี</td>\n",
       "      <td></td>\n",
       "      <td></td>\n",
       "    </tr>\n",
       "    <tr>\n",
       "      <th>...</th>\n",
       "      <td>...</td>\n",
       "      <td>...</td>\n",
       "      <td>...</td>\n",
       "      <td>...</td>\n",
       "      <td>...</td>\n",
       "      <td>...</td>\n",
       "    </tr>\n",
       "    <tr>\n",
       "      <th>2524</th>\n",
       "      <td></td>\n",
       "      <td>135 หมู่ที่ 7 ถ.ตระการ-โขงเจียม ต.คำไหล อ.ศรีเ...</td>\n",
       "      <td></td>\n",
       "      <td>มี</td>\n",
       "      <td></td>\n",
       "      <td></td>\n",
       "    </tr>\n",
       "    <tr>\n",
       "      <th>2525</th>\n",
       "      <td></td>\n",
       "      <td>250/54 หมู่ 6 ตำบลสระแก้ว อำเภอเมืองกำแพงเพชร ...</td>\n",
       "      <td>055-774287</td>\n",
       "      <td>มี</td>\n",
       "      <td></td>\n",
       "      <td></td>\n",
       "    </tr>\n",
       "    <tr>\n",
       "      <th>2526</th>\n",
       "      <td></td>\n",
       "      <td>2/1 หมู่ที่ 12 ตำบลประดู่ยืน อำเภอลานสัก จังหว...</td>\n",
       "      <td>080-5092338</td>\n",
       "      <td>มี</td>\n",
       "      <td></td>\n",
       "      <td></td>\n",
       "    </tr>\n",
       "    <tr>\n",
       "      <th>2527</th>\n",
       "      <td></td>\n",
       "      <td>89 หมู่ 15 ถนนทางหลวงสาย 3211 ตำบลหนองจอก อำเภ...</td>\n",
       "      <td>084-7613344​</td>\n",
       "      <td>มี</td>\n",
       "      <td></td>\n",
       "      <td></td>\n",
       "    </tr>\n",
       "    <tr>\n",
       "      <th>2528</th>\n",
       "      <td></td>\n",
       "      <td>99/25-26 ม .5 ถนนสุขสวัสดิ์ ตำบลบางครุ อำเภอพร...</td>\n",
       "      <td>02 464 2727</td>\n",
       "      <td>มี</td>\n",
       "      <td></td>\n",
       "      <td></td>\n",
       "    </tr>\n",
       "  </tbody>\n",
       "</table>\n",
       "<p>2529 rows × 6 columns</p>\n",
       "</div>"
      ],
      "text/plain": [
       "     company_name                                            address  \\\n",
       "0                  1071 ถ.ศรีนครินทร์ แขวงสวนหลวง เขตสวนหลวง กรุง...   \n",
       "1                  351/1 ถ.รามคำแหง แขวงสะพานสูง เขตสะพานสูง กรุง...   \n",
       "2                  655/4 ถ.รามคำแหง แขวงหัวหมาก เขตบางกะปิ กรุงเท...   \n",
       "3                  88 หมู่ 2 ถ.สุวินทวงศ์ แขวงลำผักชี เขตหนองจอก ...   \n",
       "4                  400 ถ.ร่มเกล้า แขวงมีนบุรี เขตมีนบุรี กรุงเทพม...   \n",
       "...           ...                                                ...   \n",
       "2524               135 หมู่ที่ 7 ถ.ตระการ-โขงเจียม ต.คำไหล อ.ศรีเ...   \n",
       "2525               250/54 หมู่ 6 ตำบลสระแก้ว อำเภอเมืองกำแพงเพชร ...   \n",
       "2526               2/1 หมู่ที่ 12 ตำบลประดู่ยืน อำเภอลานสัก จังหว...   \n",
       "2527               89 หมู่ 15 ถนนทางหลวงสาย 3211 ตำบลหนองจอก อำเภ...   \n",
       "2528               99/25-26 ม .5 ถนนสุขสวัสดิ์ ตำบลบางครุ อำเภอพร...   \n",
       "\n",
       "                 tel mech lat lon  \n",
       "0        02-322-2200   มี          \n",
       "1     02-540-7379-81   มี          \n",
       "2      02-735-6411-3   มี          \n",
       "3        02-172-5000   มี          \n",
       "4         02-9151115   มี          \n",
       "...              ...  ...  ..  ..  \n",
       "2524                   มี          \n",
       "2525      055-774287   มี          \n",
       "2526     080-5092338   มี          \n",
       "2527    084-7613344​   มี          \n",
       "2528     02 464 2727   มี          \n",
       "\n",
       "[2529 rows x 6 columns]"
      ]
     },
     "execution_count": 34,
     "metadata": {},
     "output_type": "execute_result"
    }
   ],
   "source": [
    "data_df_final = data_df_drop\n",
    "\n",
    "for i in range(len(data_df_final)) :\n",
    "  data_df_final.tel[i] = data_df_drop.tel[i].replace('โทร: ', '')\n",
    "\n",
    "data_df_final\n"
   ]
  },
  {
   "cell_type": "markdown",
   "metadata": {},
   "source": [
    "# Save to csv (in colab)"
   ]
  },
  {
   "cell_type": "code",
   "execution_count": null,
   "metadata": {
    "colab": {
     "base_uri": "https://localhost:8080/",
     "height": 34
    },
    "id": "S_JHEyz3icXi",
    "outputId": "f6bf6e20-dd29-4882-959d-0b8d9ab17a2f"
   },
   "outputs": [
    {
     "data": {
      "application/javascript": [
       "\n",
       "    async function download(id, filename, size) {\n",
       "      if (!google.colab.kernel.accessAllowed) {\n",
       "        return;\n",
       "      }\n",
       "      const div = document.createElement('div');\n",
       "      const label = document.createElement('label');\n",
       "      label.textContent = `Downloading \"${filename}\": `;\n",
       "      div.appendChild(label);\n",
       "      const progress = document.createElement('progress');\n",
       "      progress.max = size;\n",
       "      div.appendChild(progress);\n",
       "      document.body.appendChild(div);\n",
       "\n",
       "      const buffers = [];\n",
       "      let downloaded = 0;\n",
       "\n",
       "      const channel = await google.colab.kernel.comms.open(id);\n",
       "      // Send a message to notify the kernel that we're ready.\n",
       "      channel.send({})\n",
       "\n",
       "      for await (const message of channel.messages) {\n",
       "        // Send a message to notify the kernel that we're ready.\n",
       "        channel.send({})\n",
       "        if (message.buffers) {\n",
       "          for (const buffer of message.buffers) {\n",
       "            buffers.push(buffer);\n",
       "            downloaded += buffer.byteLength;\n",
       "            progress.value = downloaded;\n",
       "          }\n",
       "        }\n",
       "      }\n",
       "      const blob = new Blob(buffers, {type: 'application/binary'});\n",
       "      const a = document.createElement('a');\n",
       "      a.href = window.URL.createObjectURL(blob);\n",
       "      a.download = filename;\n",
       "      div.appendChild(a);\n",
       "      a.click();\n",
       "      div.remove();\n",
       "    }\n",
       "  "
      ],
      "text/plain": [
       "<IPython.core.display.Javascript object>"
      ]
     },
     "metadata": {},
     "output_type": "display_data"
    },
    {
     "data": {
      "application/javascript": [
       "download(\"download_92feb521-4334-4dc3-bc9e-0b0ceb95a447\", \"Beger_data2.csv\", 641904)"
      ],
      "text/plain": [
       "<IPython.core.display.Javascript object>"
      ]
     },
     "metadata": {},
     "output_type": "display_data"
    }
   ],
   "source": [
    "data_df_final.to_csv('Beger_data2.csv')\n",
    "from google.colab import files\n",
    "files.download(\"Beger_data2.csv\")"
   ]
  },
  {
   "cell_type": "code",
   "execution_count": null,
   "metadata": {
    "id": "L-KKWk8clmh_"
   },
   "outputs": [],
   "source": []
  }
 ],
 "metadata": {
  "colab": {
   "provenance": []
  },
  "kernelspec": {
   "display_name": "Python 3",
   "language": "python",
   "name": "python3"
  },
  "language_info": {
   "codemirror_mode": {
    "name": "ipython",
    "version": 3
   },
   "file_extension": ".py",
   "mimetype": "text/x-python",
   "name": "python",
   "nbconvert_exporter": "python",
   "pygments_lexer": "ipython3",
   "version": "3.8.3"
  }
 },
 "nbformat": 4,
 "nbformat_minor": 1
}
